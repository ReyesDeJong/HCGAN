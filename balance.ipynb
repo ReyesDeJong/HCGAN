{
 "cells": [
  {
   "cell_type": "code",
   "execution_count": 9,
   "metadata": {},
   "outputs": [],
   "source": [
    "import numpy as np\n",
    "import matplotlib.pyplot as plt"
   ]
  },
  {
   "cell_type": "code",
   "execution_count": 2,
   "metadata": {},
   "outputs": [],
   "source": [
    "\n",
    "c0 = np.full(5000, 0)\n",
    "c1 = np.full(600, 1)\n",
    "c2 = np.full(650, 2)\n",
    "c3 = np.full(300, 3)\n",
    "c4 = np.full(500, 4)\n",
    "c5 = np.full(800, 5)\n",
    "\n",
    "y = np.concatenate((c0, c1, c2, c3, c4, c5), axis=None)\n",
    "np.random.shuffle(y)\n",
    "\n",
    "x = np.random.rand(len(y))\n",
    "\n",
    "#print(len(data))"
   ]
  },
  {
   "cell_type": "code",
   "execution_count": 3,
   "metadata": {},
   "outputs": [
    {
     "data": {
      "image/png": "[encoded data removed]",
      "text/plain": [
       "<Figure size 432x288 with 1 Axes>"
      ]
     },
     "metadata": {
      "needs_background": "light"
     },
     "output_type": "display_data"
    }
   ],
   "source": [
    "plt.hist(y, bins=6, range=[0, 5], histtype='step')\n",
    "plt.show()"
   ]
  },
  {
   "cell_type": "code",
   "execution_count": 4,
   "metadata": {},
   "outputs": [],
   "source": [
    "def balance_measure(d):\n",
    "    N = len(d)\n",
    "    classes, counts = np.unique(d, return_counts=True)\n",
    "    n_classes = len(classes)\n",
    "\n",
    "    H = -sum([ (counts[i]/N) * np.log((counts[i]/N)) for i in range(len(classes))]) #shannon entropy\n",
    "    return H/np.log(n_classes)"
   ]
  },
  {
   "cell_type": "code",
   "execution_count": 5,
   "metadata": {},
   "outputs": [
    {
     "name": "stdout",
     "output_type": "stream",
     "text": [
      "0.6825747141942664\n"
     ]
    }
   ],
   "source": [
    "print(balance_measure(y))"
   ]
  },
  {
   "cell_type": "code",
   "execution_count": 6,
   "metadata": {},
   "outputs": [],
   "source": [
    "classes, counts = np.unique(y, return_counts=True)\n",
    "max_class = np.argmax(counts)"
   ]
  },
  {
   "cell_type": "code",
   "execution_count": 7,
   "metadata": {},
   "outputs": [],
   "source": [
    "sorted_y = np.sort(y)\n",
    "sorted_x = [j for _,j in sorted(zip(y, x))]\n",
    "\n",
    "splitted_x = np.split(sorted_x, np.argwhere(np.diff(sorted_y) != 0)[:,0] + 1)\n",
    "splitted_y = np.split(sorted_y, np.argwhere(np.diff(sorted_y) != 0)[:,0] + 1)"
   ]
  },
  {
   "cell_type": "code",
   "execution_count": 8,
   "metadata": {},
   "outputs": [
    {
     "name": "stdout",
     "output_type": "stream",
     "text": [
      "[0.6533980346323592, 0.6203275454115936, 0.5826028194632606, 0.5392414919076292, 0.48893972402315766, 0.42990149032083613, 0.35951290446766243, 0.2736082143642816, 0.16423104135987043]\n"
     ]
    }
   ],
   "source": [
    "bins = np.arange(0.1, 1, 0.1)\n",
    "balance = []\n",
    "acc = []\n",
    "for i in reversed(bins):\n",
    "    #print(type(round(i,1)) )\n",
    "    D = []\n",
    "    C = []\n",
    "    \n",
    "    for j in range(len(splitted_x)):\n",
    "        #print(j)\n",
    "        if j == max_class:\n",
    "            #print(len(splitted_x[j]))\n",
    "            D.append(splitted_x[j])\n",
    "            C.append(splitted_y[j])\n",
    "        else:\n",
    "            length = len(splitted_x[j])\n",
    "            sel = int(length*i)\n",
    "            #print(length, sel)\n",
    "            D.append(splitted_x[j][:sel])\n",
    "            C.append(splitted_y[j][:sel])\n",
    "    \n",
    "    selected_x = np.asarray(D)\n",
    "    selected_y = np.asarray(C)\n",
    "    \n",
    "    extended_x = np.concatenate(selected_x, axis=0)\n",
    "    extended_y = np.concatenate(selected_y, axis=0)\n",
    "    \n",
    "    balance.append(balance_measure(extended_y))\n",
    "\n",
    "print(balance)\n",
    "    \n",
    "    "
   ]
  },
  {
   "cell_type": "code",
   "execution_count": 11,
   "metadata": {},
   "outputs": [],
   "source": [
    "def balance_measure_dict(d):\n",
    "    classes = list(d.keys())\n",
    "    counts = list(d.values())\n",
    "    \n",
    "    n_classes = len(classes)\n",
    "    N = sum(counts)\n",
    "    \n",
    "    H = -sum([ (counts[i]/N) * np.log((counts[i]/N)) for i in range(len(classes))])\n",
    "    return H/np.log(n_classes)"
   ]
  },
  {
   "cell_type": "code",
   "execution_count": 12,
   "metadata": {},
   "outputs": [
    {
     "name": "stdout",
     "output_type": "stream",
     "text": [
      "0.5463506838307542\n"
     ]
    }
   ],
   "source": [
    "d={0:5000, 1:600, 2:300, 3:500}\n",
    "\n",
    "print(balance_measure_dict(d))"
   ]
  },
  {
   "cell_type": "code",
   "execution_count": null,
   "metadata": {},
   "outputs": [],
   "source": []
  }
 ],
 "metadata": {
  "kernelspec": {
   "display_name": "Python 3",
   "language": "python",
   "name": "python3"
  },
  "language_info": {
   "codemirror_mode": {
    "name": "ipython",
    "version": 3
   },
   "file_extension": ".py",
   "mimetype": "text/x-python",
   "name": "python",
   "nbconvert_exporter": "python",
   "pygments_lexer": "ipython3",
   "version": "3.7.1"
  }
 },
 "nbformat": 4,
 "nbformat_minor": 2
}
